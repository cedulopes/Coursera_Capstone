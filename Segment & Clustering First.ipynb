{
    "cells": [
        {
            "cell_type": "markdown",
            "metadata": {
                "collapsed": true
            },
            "source": "# Segmenting and Clustering Neighborhoods in New York City\n\n\n### First\n1. Start by creating a new Notebook for this assignment.\n2. Use the Notebook to build the code to scrape the Wikipedia page\n3. Create the dataframe\n4. Submit a link to your Notebook on your Github repository"
        },
        {
            "cell_type": "code",
            "execution_count": 1,
            "metadata": {},
            "outputs": [],
            "source": "import pandas as pd\nimport numpy as np\n"
        },
        {
            "cell_type": "code",
            "execution_count": 2,
            "metadata": {},
            "outputs": [
                {
                    "data": {
                        "text/plain": "(180, 3)"
                    },
                    "execution_count": 2,
                    "metadata": {},
                    "output_type": "execute_result"
                }
            ],
            "source": "# Use the Notebook to build the code to scrape the Wikipedia page\ntable_TO = pd.read_html('https://en.wikipedia.org/wiki/List_of_postal_codes_of_Canada:_M', match='Postal Code')\ndf_TO = table_TO[0]\ndf_TO.shape\n"
        },
        {
            "cell_type": "code",
            "execution_count": 3,
            "metadata": {},
            "outputs": [
                {
                    "data": {
                        "text/plain": "(103, 3)"
                    },
                    "execution_count": 3,
                    "metadata": {},
                    "output_type": "execute_result"
                }
            ],
            "source": "# Delete Borough equal Not assigned\nindexBorough = df_TO[df_TO['Borough'] == 'Not assigned' ].index\ndf_TO.drop(indexBorough , inplace=True)\ndf_TO.shape\n"
        },
        {
            "cell_type": "code",
            "execution_count": 5,
            "metadata": {},
            "outputs": [
                {
                    "data": {
                        "text/plain": "(103, 3)"
                    },
                    "execution_count": 5,
                    "metadata": {},
                    "output_type": "execute_result"
                }
            ],
            "source": "# Change value Neighbourhood to Borough if Neighbourhood is equal Not assigned\nindexNeighbour = df_TO[df_TO['Neighbourhood'] == 'Not assigned' ].index\nfor i in range(len(indexNeighbour)): df_TO['Neighbourhood'].loc[i] = df_TO['Borough'].loc[i]\ndf_TO.shape"
        }
    ],
    "metadata": {
        "kernelspec": {
            "display_name": "Python 3.7",
            "language": "python",
            "name": "python3"
        },
        "language_info": {
            "codemirror_mode": {
                "name": "ipython",
                "version": 3
            },
            "file_extension": ".py",
            "mimetype": "text/x-python",
            "name": "python",
            "nbconvert_exporter": "python",
            "pygments_lexer": "ipython3",
            "version": "3.7.9"
        }
    },
    "nbformat": 4,
    "nbformat_minor": 1
}