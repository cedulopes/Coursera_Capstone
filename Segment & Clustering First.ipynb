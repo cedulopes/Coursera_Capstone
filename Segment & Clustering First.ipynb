{
    "cells": [
        {
            "metadata": {
                "collapsed": true
            },
            "cell_type": "markdown",
            "source": "# Segmenting and Clustering Neighborhoods in New York City\n\n\n### First\n1. Start by creating a new Notebook for this assignment.\n2. Use the Notebook to build the code to scrape the Wikipedia page\n3. Create the dataframe\n4. Submit a link to your Notebook on your Github repository"
        },
        {
            "metadata": {},
            "cell_type": "code",
            "source": "import pandas as pd\n",
            "execution_count": 1,
            "outputs": []
        },
        {
            "metadata": {},
            "cell_type": "code",
            "source": "# Use the Notebook to build the code to scrape the Wikipedia page\ntable_TO = pd.read_html('https://en.wikipedia.org/wiki/List_of_postal_codes_of_Canada:_M', match='Postal Code')\ndf_TO = table_TO[0]\ndf_TO.shape\n",
            "execution_count": 2,
            "outputs": [
                {
                    "output_type": "execute_result",
                    "execution_count": 2,
                    "data": {
                        "text/plain": "(180, 3)"
                    },
                    "metadata": {}
                }
            ]
        },
        {
            "metadata": {},
            "cell_type": "code",
            "source": "# Delete Borough equal Not assigned\nindexBorough = df_TO[df_TO['Borough'] == 'Not assigned' ].index\ndf_TO.drop(indexBorough , inplace=True)\ndf_CA = df_TO.reset_index(drop=True)",
            "execution_count": 11,
            "outputs": []
        },
        {
            "metadata": {},
            "cell_type": "code",
            "source": "# Change value Neighbourhood to Borough if Neighbourhood is equal Not assigned\nindexNeighbour = df_CA[df_CA['Neighbourhood'] == 'Not assigned' ].index\nfor i in range(len(indexNeighbour)): df_CA['Neighbourhood'].loc[i] = df_CA['Borough'].loc[i]\ndf_CA.shape",
            "execution_count": 12,
            "outputs": [
                {
                    "output_type": "execute_result",
                    "execution_count": 12,
                    "data": {
                        "text/plain": "(103, 3)"
                    },
                    "metadata": {}
                }
            ]
        },
        {
            "metadata": {},
            "cell_type": "code",
            "source": "#Separe Neighbourhoods\ndel df_CA2\ndf_CA2 = pd.DataFrame(columns=['Postal Code','Borough','Neighbourhood'])\nfor x in range(len(df_CA.index)): \n    if df_CA['Neighbourhood'].loc[x].find(',') >= 1 :\n        neigh = df_CA['Neighbourhood'].loc[x].split(',')\n        y = 0\n        for y in range(len(neigh[y:])): \n            df_CA2 = df_CA2.append({\"Postal Code\": df_CA['Postal Code'].loc[x], \"Borough\": df_CA['Borough'].loc[x], \"Neighbourhood\": neigh[y]}, ignore_index=True)\n        df_CA = df_CA.drop([x])\n    else:\n        pass\nelse:\n    pass\n\n# Add Neighbourhood in df_CA\ndf_CA = df_CA.append(df_CA2)\ndf_CA = df_CA.drop_duplicates() \ndf_CA = df_CA.reset_index(drop=True)\nprint('Table size.......: ', df_CA.shape)\ndf_CA.head()\n       \n\n",
            "execution_count": 13,
            "outputs": [
                {
                    "output_type": "stream",
                    "text": "Table size.......:  (217, 3)\n",
                    "name": "stdout"
                },
                {
                    "output_type": "execute_result",
                    "execution_count": 13,
                    "data": {
                        "text/plain": "  Postal Code     Borough     Neighbourhood\n0         M3A  North York         Parkwoods\n1         M4A  North York  Victoria Village\n2         M3B  North York         Don Mills\n3         M6B  North York         Glencairn\n4         M3C  North York         Don Mills",
                        "text/html": "<div>\n<style scoped>\n    .dataframe tbody tr th:only-of-type {\n        vertical-align: middle;\n    }\n\n    .dataframe tbody tr th {\n        vertical-align: top;\n    }\n\n    .dataframe thead th {\n        text-align: right;\n    }\n</style>\n<table border=\"1\" class=\"dataframe\">\n  <thead>\n    <tr style=\"text-align: right;\">\n      <th></th>\n      <th>Postal Code</th>\n      <th>Borough</th>\n      <th>Neighbourhood</th>\n    </tr>\n  </thead>\n  <tbody>\n    <tr>\n      <th>0</th>\n      <td>M3A</td>\n      <td>North York</td>\n      <td>Parkwoods</td>\n    </tr>\n    <tr>\n      <th>1</th>\n      <td>M4A</td>\n      <td>North York</td>\n      <td>Victoria Village</td>\n    </tr>\n    <tr>\n      <th>2</th>\n      <td>M3B</td>\n      <td>North York</td>\n      <td>Don Mills</td>\n    </tr>\n    <tr>\n      <th>3</th>\n      <td>M6B</td>\n      <td>North York</td>\n      <td>Glencairn</td>\n    </tr>\n    <tr>\n      <th>4</th>\n      <td>M3C</td>\n      <td>North York</td>\n      <td>Don Mills</td>\n    </tr>\n  </tbody>\n</table>\n</div>"
                    },
                    "metadata": {}
                }
            ]
        }
    ],
    "metadata": {
        "kernelspec": {
            "name": "python3",
            "display_name": "Python 3.7",
            "language": "python"
        },
        "language_info": {
            "name": "python",
            "version": "3.7.9",
            "mimetype": "text/x-python",
            "codemirror_mode": {
                "name": "ipython",
                "version": 3
            },
            "pygments_lexer": "ipython3",
            "nbconvert_exporter": "python",
            "file_extension": ".py"
        }
    },
    "nbformat": 4,
    "nbformat_minor": 1
}