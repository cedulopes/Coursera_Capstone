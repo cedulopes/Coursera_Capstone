{
    "cells": [
        {
            "metadata": {
                "collapsed": true
            },
            "cell_type": "markdown",
            "source": "# Segmenting and Clustering Neighborhoods in New York City\n\n\n### Third\n1. Explore and cluster the neighborhoods in Toronto \n2. Submit a link to the new Notebook on your Github repository"
        },
        {
            "metadata": {},
            "cell_type": "code",
            "source": "import numpy as np # library to handle data in a vectorized manner\n\nimport pandas as pd # library for data analsysis\npd.set_option('display.max_columns', None)\npd.set_option('display.max_rows', None)\n\nimport json # library to handle JSON files\n\n!conda install -c conda-forge geopy --yes # uncomment this line if you haven't completed the Foursquare API lab\nfrom geopy.geocoders import Nominatim # convert an address into latitude and longitude values\n\nimport requests # library to handle requests\nfrom pandas.io.json import json_normalize # tranform JSON file into a pandas dataframe\n\n# Matplotlib and associated plotting modules\nimport matplotlib.cm as cm\nimport matplotlib.colors as colors\n\n# import k-means from clustering stage\nfrom sklearn.cluster import KMeans\n\n#!conda install -c conda-forge folium=0.5.0 --yes # uncomment this line if you haven't completed the Foursquare API lab\nimport folium # map rendering library\n\nprint('Libraries imported.')\n",
            "execution_count": 2,
            "outputs": []
        },
        {
            "metadata": {},
            "cell_type": "code",
            "source": "# Use the Notebook to build the code to scrape the Wikipedia page\ntable_TO = pd.read_html('https://en.wikipedia.org/wiki/List_of_postal_codes_of_Canada:_M', match='Postal Code')\ndf_TO = table_TO[0]\ndf_TO.shape\n",
            "execution_count": 3,
            "outputs": [
                {
                    "output_type": "execute_result",
                    "execution_count": 3,
                    "data": {
                        "text/plain": "(180, 3)"
                    },
                    "metadata": {}
                }
            ]
        },
        {
            "metadata": {},
            "cell_type": "code",
            "source": "# Delete Borough equal Not assigned\nindexBorough = df_TO[df_TO['Borough'] == 'Not assigned' ].index\ndf_TO.drop(indexBorough , inplace=True)\ndf_CA = df_TO.reset_index(drop=True)",
            "execution_count": 4,
            "outputs": []
        },
        {
            "metadata": {},
            "cell_type": "code",
            "source": "# Change value Neighbourhood to Borough if Neighbourhood is equal Not assigned\nindexNeighbour = df_CA[df_CA['Neighbourhood'] == 'Not assigned' ].index\nfor i in range(len(indexNeighbour)): df_CA['Neighbourhood'].loc[i] = df_CA['Borough'].loc[i]\ndf_CA.shape",
            "execution_count": 5,
            "outputs": [
                {
                    "output_type": "execute_result",
                    "execution_count": 5,
                    "data": {
                        "text/plain": "(103, 3)"
                    },
                    "metadata": {}
                }
            ]
        },
        {
            "metadata": {},
            "cell_type": "code",
            "source": "#Separe Neighbourhoods\ntry:\n    del df_CA2\nexcept:\n    pass\ndf_CA2 = pd.DataFrame(columns=['Postal Code','Borough','Neighbourhood'])\nfor x in range(len(df_CA.index)): \n    try:\n        if df_CA['Neighbourhood'].loc[x].find(',') >= 1 :\n            neigh = df_CA['Neighbourhood'].loc[x].split(',')\n            y = 0\n            for y in range(len(neigh[y:])): \n                df_CA2 = df_CA2.append({\"Postal Code\": df_CA['Postal Code'].loc[x], \"Borough\": df_CA['Borough'].loc[x], \\\n                                        \"Neighbourhood\": neigh[y]}, ignore_index=True)\n            df_CA = df_CA.drop([x])\n        else:\n            pass\n    except:\n        pass\nelse:\n    pass\n\n# Add Neighbourhood in df_CA\ndf_CA = df_CA.append(df_CA2)\ndf_CA = df_CA.drop_duplicates() \ndf_CA = df_CA.reset_index(drop=True)\nprint('Table size.......: ', df_CA.shape)",
            "execution_count": 13,
            "outputs": [
                {
                    "output_type": "stream",
                    "text": "Table size.......:  (217, 3)\n",
                    "name": "stdout"
                }
            ]
        },
        {
            "metadata": {},
            "cell_type": "code",
            "source": "# Importr CSV with the geographical coordinates\ndf_GEO = pd.read_csv('https://cocl.us/Geospatial_data')",
            "execution_count": 14,
            "outputs": []
        },
        {
            "metadata": {},
            "cell_type": "code",
            "source": "# Creat New dataframe with geographical coordinates\ntry:\n    del df_CAGEO\nexcept:\n    pass\ndf_CAGEO = pd.DataFrame(columns=['Postal Code','Borough','Neighbourhood','Latitude','Longitude'])\nfor i in range(len(df_CA.index)):\n    check = True\n    j = 0\n    while (j < len(df_GEO.index)) and (check):\n        if df_CA['Postal Code'].loc[i] == df_GEO['Postal Code'].loc[j]:\n            df_CAGEO = df_CAGEO.append({\"Postal Code\": df_CA['Postal Code'].loc[i], \"Borough\": df_CA['Borough'].loc[i], \\\n                                      \"Neighbourhood\": df_CA['Neighbourhood'].loc[i],\"Latitude\": df_GEO['Latitude'].loc[j],\\\n                                      \"Longitude\": df_GEO['Longitude'].loc[j]}, ignore_index=True)\n            check = False\n        else:\n            j = j + 1\nelse:\n    pass     \n    ",
            "execution_count": 16,
            "outputs": [
                {
                    "output_type": "stream",
                    "text": "(217, 5)\n",
                    "name": "stdout"
                },
                {
                    "output_type": "execute_result",
                    "execution_count": 16,
                    "data": {
                        "text/plain": "  Postal Code     Borough     Neighbourhood   Latitude  Longitude\n0         M3A  North York         Parkwoods  43.753259 -79.329656\n1         M4A  North York  Victoria Village  43.725882 -79.315572\n2         M3B  North York         Don Mills  43.745906 -79.352188\n3         M6B  North York         Glencairn  43.709577 -79.445073\n4         M3C  North York         Don Mills  43.725900 -79.340923",
                        "text/html": "<div>\n<style scoped>\n    .dataframe tbody tr th:only-of-type {\n        vertical-align: middle;\n    }\n\n    .dataframe tbody tr th {\n        vertical-align: top;\n    }\n\n    .dataframe thead th {\n        text-align: right;\n    }\n</style>\n<table border=\"1\" class=\"dataframe\">\n  <thead>\n    <tr style=\"text-align: right;\">\n      <th></th>\n      <th>Postal Code</th>\n      <th>Borough</th>\n      <th>Neighbourhood</th>\n      <th>Latitude</th>\n      <th>Longitude</th>\n    </tr>\n  </thead>\n  <tbody>\n    <tr>\n      <th>0</th>\n      <td>M3A</td>\n      <td>North York</td>\n      <td>Parkwoods</td>\n      <td>43.753259</td>\n      <td>-79.329656</td>\n    </tr>\n    <tr>\n      <th>1</th>\n      <td>M4A</td>\n      <td>North York</td>\n      <td>Victoria Village</td>\n      <td>43.725882</td>\n      <td>-79.315572</td>\n    </tr>\n    <tr>\n      <th>2</th>\n      <td>M3B</td>\n      <td>North York</td>\n      <td>Don Mills</td>\n      <td>43.745906</td>\n      <td>-79.352188</td>\n    </tr>\n    <tr>\n      <th>3</th>\n      <td>M6B</td>\n      <td>North York</td>\n      <td>Glencairn</td>\n      <td>43.709577</td>\n      <td>-79.445073</td>\n    </tr>\n    <tr>\n      <th>4</th>\n      <td>M3C</td>\n      <td>North York</td>\n      <td>Don Mills</td>\n      <td>43.725900</td>\n      <td>-79.340923</td>\n    </tr>\n  </tbody>\n</table>\n</div>"
                    },
                    "metadata": {}
                }
            ]
        },
        {
            "metadata": {},
            "cell_type": "code",
            "source": "",
            "execution_count": null,
            "outputs": []
        }
    ],
    "metadata": {
        "kernelspec": {
            "name": "python3",
            "display_name": "Python 3.7",
            "language": "python"
        },
        "language_info": {
            "name": "python",
            "version": "3.7.9",
            "mimetype": "text/x-python",
            "codemirror_mode": {
                "name": "ipython",
                "version": 3
            },
            "pygments_lexer": "ipython3",
            "nbconvert_exporter": "python",
            "file_extension": ".py"
        }
    },
    "nbformat": 4,
    "nbformat_minor": 1
}